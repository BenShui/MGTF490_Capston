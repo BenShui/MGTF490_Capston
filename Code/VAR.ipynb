{
 "cells": [
  {
   "cell_type": "code",
   "execution_count": 1,
   "id": "432da900-1380-4f63-ac3d-0c4b57c1c214",
   "metadata": {},
   "outputs": [],
   "source": [
    "import pandas as pd\n",
    "import numpy as np\n",
    "import matplotlib.pyplot as plt\n",
    "from statsmodels.tsa.api import VAR\n",
    "from statsmodels.tsa.stattools import adfuller\n",
    "from statsmodels.tools.eval_measures import rmse, aic"
   ]
  },
  {
   "cell_type": "code",
   "execution_count": 2,
   "id": "59322344-9a04-40e3-8ec0-cfca3d6d4a93",
   "metadata": {},
   "outputs": [],
   "source": [
    "df = pd.read_csv('merged_origin.csv')"
   ]
  },
  {
   "cell_type": "code",
   "execution_count": 3,
   "id": "6c6219d2-a344-4b75-bd8a-27df9628264f",
   "metadata": {},
   "outputs": [],
   "source": [
    "df.set_index(pd.to_datetime(df['TIMESTAMP']), inplace=True)"
   ]
  },
  {
   "cell_type": "code",
   "execution_count": 6,
   "id": "4282ee72-2c77-412f-85b7-5de45d0132e0",
   "metadata": {},
   "outputs": [],
   "source": [
    "nobs = 10\n",
    "df_train = df[:-nobs]\n",
    "df_test = df[-nobs:]"
   ]
  },
  {
   "cell_type": "markdown",
   "id": "2cda52a6-2c64-4448-b213-cd3c3212f814",
   "metadata": {},
   "source": [
    "## ADF test-stationary"
   ]
  },
  {
   "cell_type": "code",
   "execution_count": 35,
   "id": "f313f1ea-18b2-4b5c-8177-2967f6d53395",
   "metadata": {},
   "outputs": [],
   "source": [
    "def adfuller_test(series, signif=0.05, name='', verbose=False):\n",
    "    \"\"\"Perform ADFuller to test for Stationarity of given series and print report\"\"\"\n",
    "    r = adfuller(series, autolag='AIC')\n",
    "    output = {'test_statistic':round(r[0], 4), 'pvalue':round(r[1], 4), 'n_lags':round(r[2], 4), 'n_obs':r[3]}\n",
    "    p_value = output['pvalue'] \n",
    "    def adjust(val, length= 6): return str(val).ljust(length)\n",
    "    \n",
    "    print(f'    Augmented Dickey-Fuller Test on \"{name}\"', \"\\n   \", '-'*47)\n",
    "    print(f' Null Hypothesis: Data has unit root. Non-Stationary.')\n",
    "    print(f' Significance Level    = {signif}')\n",
    "    print(f' Test Statistic        = {output[\"test_statistic\"]}')\n",
    "    print(f' No. Lags Chosen       = {output[\"n_lags\"]}')\n",
    "    \n",
    "    for key,val in r[4].items():\n",
    "        print(f' Critical value {adjust(key)} = {round(val, 3)}')\n",
    "\n",
    "    if p_value <= signif:\n",
    "        print(\" => P-Value = {:.4f}. Rejecting Null Hypothesis.\".format(p_value))\n",
    "        print(\" => Series is Stationary.\")\n",
    "    else:\n",
    "        print(\" => P-Value = {:.4f}. Weak evidence to reject the Null Hypothesis.\".format(p_value))\n",
    "        print(\" => Series is Non-Stationary.\")   "
   ]
  },
  {
   "cell_type": "code",
   "execution_count": 36,
   "id": "a02aace5-def1-471e-ada2-ab2d0da761d2",
   "metadata": {},
   "outputs": [
    {
     "name": "stdout",
     "output_type": "stream",
     "text": [
      "    Augmented Dickey-Fuller Test on \"\" \n",
      "    -----------------------------------------------\n",
      " Null Hypothesis: Data has unit root. Non-Stationary.\n",
      " Significance Level    = 0.05\n",
      " Test Statistic        = 0.9815\n",
      " No. Lags Chosen       = 32\n",
      " Critical value 1%     = -3.431\n",
      " Critical value 5%     = -2.862\n",
      " Critical value 10%    = -2.567\n",
      " => P-Value = 0.9941. Weak evidence to reject the Null Hypothesis.\n",
      " => Series is Non-Stationary.\n"
     ]
    }
   ],
   "source": [
    "adfuller_test(df['CLOSE'])"
   ]
  },
  {
   "cell_type": "code",
   "execution_count": 37,
   "id": "a2cf763f-6730-41a8-8d77-b3417e62f78f",
   "metadata": {},
   "outputs": [
    {
     "name": "stdout",
     "output_type": "stream",
     "text": [
      "    Augmented Dickey-Fuller Test on \"\" \n",
      "    -----------------------------------------------\n",
      " Null Hypothesis: Data has unit root. Non-Stationary.\n",
      " Significance Level    = 0.05\n",
      " Test Statistic        = 0.9488\n",
      " No. Lags Chosen       = 32\n",
      " Critical value 1%     = -3.431\n",
      " Critical value 5%     = -2.862\n",
      " Critical value 10%    = -2.567\n",
      " => P-Value = 0.9937. Weak evidence to reject the Null Hypothesis.\n",
      " => Series is Non-Stationary.\n"
     ]
    }
   ],
   "source": [
    "adfuller_test(df['WETH/PEPE'])"
   ]
  },
  {
   "cell_type": "code",
   "execution_count": 38,
   "id": "02d5e425-8e03-46ec-9b43-825e273585ad",
   "metadata": {},
   "outputs": [],
   "source": [
    "df_close_diff = df['CLOSE'].diff().dropna()\n",
    "df_weth_diff = df['WETH/PEPE'].diff().dropna()"
   ]
  },
  {
   "cell_type": "code",
   "execution_count": 39,
   "id": "f76d0303-a8c4-4419-9e54-00d12a57711f",
   "metadata": {},
   "outputs": [
    {
     "name": "stdout",
     "output_type": "stream",
     "text": [
      "    Augmented Dickey-Fuller Test on \"\" \n",
      "    -----------------------------------------------\n",
      " Null Hypothesis: Data has unit root. Non-Stationary.\n",
      " Significance Level    = 0.05\n",
      " Test Statistic        = -17.6385\n",
      " No. Lags Chosen       = 31\n",
      " Critical value 1%     = -3.431\n",
      " Critical value 5%     = -2.862\n",
      " Critical value 10%    = -2.567\n",
      " => P-Value = 0.0000. Rejecting Null Hypothesis.\n",
      " => Series is Stationary.\n"
     ]
    }
   ],
   "source": [
    "adfuller_test(df_close_diff)"
   ]
  },
  {
   "cell_type": "code",
   "execution_count": 40,
   "id": "0892e46f-124f-4eb6-88ae-c1b692af81b1",
   "metadata": {},
   "outputs": [
    {
     "name": "stdout",
     "output_type": "stream",
     "text": [
      "    Augmented Dickey-Fuller Test on \"\" \n",
      "    -----------------------------------------------\n",
      " Null Hypothesis: Data has unit root. Non-Stationary.\n",
      " Significance Level    = 0.05\n",
      " Test Statistic        = -17.566\n",
      " No. Lags Chosen       = 31\n",
      " Critical value 1%     = -3.431\n",
      " Critical value 5%     = -2.862\n",
      " Critical value 10%    = -2.567\n",
      " => P-Value = 0.0000. Rejecting Null Hypothesis.\n",
      " => Series is Stationary.\n"
     ]
    }
   ],
   "source": [
    "adfuller_test(df_weth_diff)"
   ]
  },
  {
   "cell_type": "markdown",
   "id": "0a8036e4-f347-4560-807a-f99fc0651a55",
   "metadata": {},
   "source": [
    "## DW test"
   ]
  },
  {
   "cell_type": "code",
   "execution_count": 13,
   "id": "f5f22823-7b2f-46b0-9121-5efc7b1ea26d",
   "metadata": {},
   "outputs": [],
   "source": [
    "df_train_diff = df_train[['CLOSE', 'WETH/PEPE']].diff().dropna()"
   ]
  },
  {
   "cell_type": "code",
   "execution_count": 14,
   "id": "db13004e-2bff-45a5-a574-95d15b4352fc",
   "metadata": {},
   "outputs": [
    {
     "name": "stdout",
     "output_type": "stream",
     "text": [
      "Lag Order = 1\n",
      "AIC :  -105.91869020137422\n",
      "BIC :  -105.91336820050887\n",
      "FPE :  1.0002241015330982e-46\n",
      "HQIC:  -105.91686692219736 \n",
      "\n",
      "Lag Order = 2\n",
      "AIC :  -106.05243784471513\n",
      "BIC :  -106.04356687621966\n",
      "FPE :  8.750068477586395e-47\n",
      "HQIC:  -106.04939869540314 \n",
      "\n",
      "Lag Order = 3\n",
      "AIC :  -106.10932428639363\n",
      "BIC :  -106.09690357630966\n",
      "FPE :  8.266201438101183e-47\n",
      "HQIC:  -106.10506898628155 \n",
      "\n",
      "Lag Order = 4\n",
      "AIC :  -106.16174126995993\n",
      "BIC :  -106.14577004405817\n",
      "FPE :  7.844072121459328e-47\n",
      "HQIC:  -106.15626953828175 \n",
      "\n",
      "Lag Order = 5\n",
      "AIC :  -106.19527942681795\n",
      "BIC :  -106.17575691059812\n",
      "FPE :  7.585359042698965e-47\n",
      "HQIC:  -106.1885909827065 \n",
      "\n",
      "Lag Order = 6\n",
      "AIC :  -106.21804676164528\n",
      "BIC :  -106.19497218033602\n",
      "FPE :  7.414611757323734e-47\n",
      "HQIC:  -106.21014132413228 \n",
      "\n",
      "Lag Order = 7\n",
      "AIC :  -106.23459892159093\n",
      "BIC :  -106.2079715001496\n",
      "FPE :  7.292894065759435e-47\n",
      "HQIC:  -106.22547620960685 \n",
      "\n",
      "Lag Order = 8\n",
      "AIC :  -106.25071211999071\n",
      "BIC :  -106.22053108310327\n",
      "FPE :  7.176323928469032e-47\n",
      "HQIC:  -106.24037185236476 \n",
      "\n",
      "Lag Order = 9\n",
      "AIC :  -106.26472418586513\n",
      "BIC :  -106.23098875794605\n",
      "FPE :  7.0764700563925465e-47\n",
      "HQIC:  -106.2531660813252 \n",
      "\n",
      "Lag Order = 10\n",
      "AIC :  -106.27424518831523\n",
      "BIC :  -106.23695459350735\n",
      "FPE :  7.009414737832375e-47\n",
      "HQIC:  -106.26146896548786 \n",
      "\n"
     ]
    },
    {
     "name": "stderr",
     "output_type": "stream",
     "text": [
      "D:\\anaconda3\\Lib\\site-packages\\statsmodels\\tsa\\base\\tsa_model.py:473: ValueWarning: A date index has been provided, but it has no associated frequency information and so will be ignored when e.g. forecasting.\n",
      "  self._init_dates(dates, freq)\n"
     ]
    }
   ],
   "source": [
    "model = VAR(df_train_diff)\n",
    "for i in range(1,11):\n",
    "    result = model.fit(i)\n",
    "    print('Lag Order =', i)\n",
    "    print('AIC : ', result.aic)\n",
    "    print('BIC : ', result.bic)\n",
    "    print('FPE : ', result.fpe)\n",
    "    print('HQIC: ', result.hqic, '\\n')"
   ]
  },
  {
   "cell_type": "code",
   "execution_count": 15,
   "id": "f8165a28-137e-405b-b891-b236e0522ddb",
   "metadata": {},
   "outputs": [
    {
     "data": {
      "text/plain": [
       "  Summary of Regression Results   \n",
       "==================================\n",
       "Model:                         VAR\n",
       "Method:                        OLS\n",
       "Date:           Mon, 12, Aug, 2024\n",
       "Time:                     18:43:20\n",
       "--------------------------------------------------------------------\n",
       "No. of Equations:         2.00000    BIC:                   -106.237\n",
       "Nobs:                     7848.00    HQIC:                  -106.261\n",
       "Log likelihood:           394790.    FPE:                7.00941e-47\n",
       "AIC:                     -106.274    Det(Omega_mle):     6.97205e-47\n",
       "--------------------------------------------------------------------\n",
       "Results for equation CLOSE\n",
       "================================================================================\n",
       "                   coefficient       std. error           t-stat            prob\n",
       "--------------------------------------------------------------------------------\n",
       "const                 0.000000         0.000000            1.730           0.084\n",
       "L1.CLOSE             -0.026350         0.014822           -1.778           0.075\n",
       "L1.WETH/PEPE         -0.017879         0.016730           -1.069           0.285\n",
       "L2.CLOSE              0.092131         0.020571            4.479           0.000\n",
       "L2.WETH/PEPE         -0.025992         0.021503           -1.209           0.227\n",
       "L3.CLOSE              0.027858         0.024036            1.159           0.246\n",
       "L3.WETH/PEPE         -0.043289         0.024269           -1.784           0.074\n",
       "L4.CLOSE              0.034287         0.026115            1.313           0.189\n",
       "L4.WETH/PEPE         -0.078207         0.026049           -3.002           0.003\n",
       "L5.CLOSE              0.121133         0.027510            4.403           0.000\n",
       "L5.WETH/PEPE         -0.167792         0.026802           -6.260           0.000\n",
       "L6.CLOSE              0.120256         0.027884            4.313           0.000\n",
       "L6.WETH/PEPE         -0.118025         0.026677           -4.424           0.000\n",
       "L7.CLOSE              0.083682         0.027042            3.095           0.002\n",
       "L7.WETH/PEPE         -0.060522         0.025513           -2.372           0.018\n",
       "L8.CLOSE              0.059476         0.025457            2.336           0.019\n",
       "L8.WETH/PEPE         -0.014934         0.023498           -0.636           0.525\n",
       "L9.CLOSE              0.026766         0.023084            1.160           0.246\n",
       "L9.WETH/PEPE          0.010118         0.020110            0.503           0.615\n",
       "L10.CLOSE            -0.016724         0.018461           -0.906           0.365\n",
       "L10.WETH/PEPE         0.009331         0.014271            0.654           0.513\n",
       "================================================================================\n",
       "\n",
       "Results for equation WETH/PEPE\n",
       "================================================================================\n",
       "                   coefficient       std. error           t-stat            prob\n",
       "--------------------------------------------------------------------------------\n",
       "const                 0.000000         0.000000            1.118           0.264\n",
       "L1.CLOSE              0.843622         0.013098           64.410           0.000\n",
       "L1.WETH/PEPE         -0.837242         0.014784          -56.631           0.000\n",
       "L2.CLOSE              0.824222         0.018178           45.342           0.000\n",
       "L2.WETH/PEPE         -0.741682         0.019001          -39.033           0.000\n",
       "L3.CLOSE              0.698501         0.021240           32.885           0.000\n",
       "L3.WETH/PEPE         -0.697483         0.021446          -32.523           0.000\n",
       "L4.CLOSE              0.665276         0.023077           28.828           0.000\n",
       "L4.WETH/PEPE         -0.630628         0.023019          -27.396           0.000\n",
       "L5.CLOSE              0.622981         0.024310           25.626           0.000\n",
       "L5.WETH/PEPE         -0.598069         0.023684          -25.252           0.000\n",
       "L6.CLOSE              0.537146         0.024641           21.799           0.000\n",
       "L6.WETH/PEPE         -0.493152         0.023574          -20.920           0.000\n",
       "L7.CLOSE              0.429759         0.023896           17.984           0.000\n",
       "L7.WETH/PEPE         -0.374532         0.022545          -16.613           0.000\n",
       "L8.CLOSE              0.331466         0.022496           14.734           0.000\n",
       "L8.WETH/PEPE         -0.272005         0.020765          -13.099           0.000\n",
       "L9.CLOSE              0.224704         0.020399           11.016           0.000\n",
       "L9.WETH/PEPE         -0.160996         0.017770           -9.060           0.000\n",
       "L10.CLOSE             0.101427         0.016314            6.217           0.000\n",
       "L10.WETH/PEPE        -0.041106         0.012611           -3.259           0.001\n",
       "================================================================================\n",
       "\n",
       "Correlation matrix of residuals\n",
       "                CLOSE  WETH/PEPE\n",
       "CLOSE        1.000000   0.649335\n",
       "WETH/PEPE    0.649335   1.000000\n",
       "\n"
      ]
     },
     "execution_count": 15,
     "metadata": {},
     "output_type": "execute_result"
    }
   ],
   "source": [
    "model_fitted = model.fit(10)\n",
    "model_fitted.summary()"
   ]
  },
  {
   "cell_type": "markdown",
   "id": "92afd723-5430-4959-ad81-9ebec24b9864",
   "metadata": {},
   "source": [
    "## Granger Causuality Test"
   ]
  },
  {
   "cell_type": "code",
   "execution_count": 27,
   "id": "0bd36000-048d-4734-b443-49d449c1b886",
   "metadata": {},
   "outputs": [],
   "source": [
    "def granger_causation_matrix(data, variables, p, test = 'ssr_chi2test', verbose=False):    \n",
    "    \"\"\"Check Granger Causality of all possible combinations of the time series.\n",
    "    The rows are the response variables, columns are predictors. The values in the table \n",
    "    are the P-Values. P-Values lesser than the significance level (0.05), implies \n",
    "    the Null Hypothesis that the coefficients of the corresponding past values is \n",
    "    zero, that is, the X does not cause Y can be rejected.\n",
    "\n",
    "    data      : pandas dataframe containing the time series variables\n",
    "    variables : list containing names of the time series variables.\n",
    "    \"\"\"\n",
    "    df = pd.DataFrame(np.zeros((len(variables), len(variables))), columns=variables, index=variables)\n",
    "    for c in df.columns:\n",
    "        for r in df.index:\n",
    "            test_result = grangercausalitytests(data[[r, c]], p, verbose=False)\n",
    "            p_values = [round(test_result[i+1][0][test][1],4) for i in range(p)]\n",
    "            if verbose: print(f'Y = {r}, X = {c}, P Values = {p_values}')\n",
    "            min_p_value = np.min(p_values)\n",
    "            df.loc[r, c] = min_p_value\n",
    "    df.columns = [var + '_x' for var in variables]\n",
    "    df.index = [var + '_y' for var in variables]\n",
    "    return df"
   ]
  },
  {
   "cell_type": "code",
   "execution_count": 30,
   "id": "7b31f6af-fb88-4dff-8bea-f383bf06c2fd",
   "metadata": {},
   "outputs": [
    {
     "name": "stderr",
     "output_type": "stream",
     "text": [
      "D:\\anaconda3\\Lib\\site-packages\\statsmodels\\tsa\\stattools.py:1488: FutureWarning: verbose is deprecated since functions should not print results\n",
      "  warnings.warn(\n",
      "D:\\anaconda3\\Lib\\site-packages\\statsmodels\\tsa\\stattools.py:1488: FutureWarning: verbose is deprecated since functions should not print results\n",
      "  warnings.warn(\n",
      "D:\\anaconda3\\Lib\\site-packages\\statsmodels\\tsa\\stattools.py:1488: FutureWarning: verbose is deprecated since functions should not print results\n",
      "  warnings.warn(\n",
      "D:\\anaconda3\\Lib\\site-packages\\statsmodels\\tsa\\stattools.py:1488: FutureWarning: verbose is deprecated since functions should not print results\n",
      "  warnings.warn(\n"
     ]
    },
    {
     "data": {
      "text/html": [
       "<div>\n",
       "<style scoped>\n",
       "    .dataframe tbody tr th:only-of-type {\n",
       "        vertical-align: middle;\n",
       "    }\n",
       "\n",
       "    .dataframe tbody tr th {\n",
       "        vertical-align: top;\n",
       "    }\n",
       "\n",
       "    .dataframe thead th {\n",
       "        text-align: right;\n",
       "    }\n",
       "</style>\n",
       "<table border=\"1\" class=\"dataframe\">\n",
       "  <thead>\n",
       "    <tr style=\"text-align: right;\">\n",
       "      <th></th>\n",
       "      <th>CLOSE_x</th>\n",
       "      <th>WETH/PEPE_x</th>\n",
       "    </tr>\n",
       "  </thead>\n",
       "  <tbody>\n",
       "    <tr>\n",
       "      <th>CLOSE_y</th>\n",
       "      <td>1.0</td>\n",
       "      <td>0.0</td>\n",
       "    </tr>\n",
       "    <tr>\n",
       "      <th>WETH/PEPE_y</th>\n",
       "      <td>0.0</td>\n",
       "      <td>1.0</td>\n",
       "    </tr>\n",
       "  </tbody>\n",
       "</table>\n",
       "</div>"
      ],
      "text/plain": [
       "             CLOSE_x  WETH/PEPE_x\n",
       "CLOSE_y          1.0          0.0\n",
       "WETH/PEPE_y      0.0          1.0"
      ]
     },
     "execution_count": 30,
     "metadata": {},
     "output_type": "execute_result"
    }
   ],
   "source": [
    "granger_causation_matrix(df_train_diff, df_train_diff.columns, 10)  "
   ]
  },
  {
   "cell_type": "code",
   "execution_count": 32,
   "id": "8b1cbf5a-fa38-4d5b-bdd2-89dd58b9c1d9",
   "metadata": {},
   "outputs": [
    {
     "name": "stdout",
     "output_type": "stream",
     "text": [
      "\n",
      "Granger Causality\n",
      "number of lags (no zero) 1\n",
      "ssr based F test:         F=1900.1181, p=0.0000  , df_denom=7854, df_num=1\n",
      "ssr based chi2 test:   chi2=1900.8439, p=0.0000  , df=1\n",
      "likelihood ratio test: chi2=1702.3496, p=0.0000  , df=1\n",
      "parameter F test:         F=1900.1181, p=0.0000  , df_denom=7854, df_num=1\n",
      "\n",
      "Granger Causality\n",
      "number of lags (no zero) 2\n",
      "ssr based F test:         F=1465.1655, p=0.0000  , df_denom=7851, df_num=2\n",
      "ssr based chi2 test:   chi2=2932.1972, p=0.0000  , df=2\n",
      "likelihood ratio test: chi2=2491.7277, p=0.0000  , df=2\n",
      "parameter F test:         F=1465.1655, p=0.0000  , df_denom=7851, df_num=2\n",
      "\n",
      "Granger Causality\n",
      "number of lags (no zero) 3\n",
      "ssr based F test:         F=1104.6088, p=0.0000  , df_denom=7848, df_num=3\n",
      "ssr based chi2 test:   chi2=3316.7820, p=0.0000  , df=3\n",
      "likelihood ratio test: chi2=2766.8520, p=0.0000  , df=3\n",
      "parameter F test:         F=1104.6088, p=0.0000  , df_denom=7848, df_num=3\n",
      "\n",
      "Granger Causality\n",
      "number of lags (no zero) 4\n",
      "ssr based F test:         F=890.9975, p=0.0000  , df_denom=7845, df_num=4\n",
      "ssr based chi2 test:   chi2=3568.0787, p=0.0000  , df=4\n",
      "likelihood ratio test: chi2=2941.5214, p=0.0000  , df=4\n",
      "parameter F test:         F=890.9975, p=0.0000  , df_denom=7845, df_num=4\n",
      "\n",
      "Granger Causality\n",
      "number of lags (no zero) 5\n",
      "ssr based F test:         F=764.6674, p=0.0000  , df_denom=7842, df_num=5\n",
      "ssr based chi2 test:   chi2=3828.6998, p=0.0000  , df=5\n",
      "likelihood ratio test: chi2=3118.6452, p=0.0000  , df=5\n",
      "parameter F test:         F=764.6673, p=0.0000  , df_denom=7842, df_num=5\n",
      "\n",
      "Granger Causality\n",
      "number of lags (no zero) 6\n",
      "ssr based F test:         F=672.2951, p=0.0000  , df_denom=7839, df_num=6\n",
      "ssr based chi2 test:   chi2=4040.4603, p=0.0000  , df=6\n",
      "likelihood ratio test: chi2=3259.6505, p=0.0000  , df=6\n",
      "parameter F test:         F=672.2951, p=0.0000  , df_denom=7839, df_num=6\n",
      "\n",
      "Granger Causality\n",
      "number of lags (no zero) 7\n",
      "ssr based F test:         F=599.4993, p=0.0000  , df_denom=7836, df_num=7\n",
      "ssr based chi2 test:   chi2=4204.5283, p=0.0000  , df=7\n",
      "likelihood ratio test: chi2=3367.1559, p=0.0000  , df=7\n",
      "parameter F test:         F=599.4993, p=0.0000  , df_denom=7836, df_num=7\n",
      "\n",
      "Granger Causality\n",
      "number of lags (no zero) 8\n",
      "ssr based F test:         F=543.0659, p=0.0000  , df_denom=7833, df_num=8\n",
      "ssr based chi2 test:   chi2=4353.9563, p=0.0000  , df=8\n",
      "likelihood ratio test: chi2=3463.7862, p=0.0000  , df=8\n",
      "parameter F test:         F=543.0659, p=0.0000  , df_denom=7833, df_num=8\n",
      "\n",
      "Granger Causality\n",
      "number of lags (no zero) 9\n",
      "ssr based F test:         F=496.7615, p=0.0000  , df_denom=7830, df_num=9\n",
      "ssr based chi2 test:   chi2=4481.7022, p=0.0000  , df=9\n",
      "likelihood ratio test: chi2=3545.4414, p=0.0000  , df=9\n",
      "parameter F test:         F=496.7615, p=0.0000  , df_denom=7830, df_num=9\n",
      "\n",
      "Granger Causality\n",
      "number of lags (no zero) 10\n",
      "ssr based F test:         F=451.3168, p=0.0000  , df_denom=7827, df_num=10\n",
      "ssr based chi2 test:   chi2=4525.2770, p=0.0000  , df=10\n",
      "likelihood ratio test: chi2=3573.0401, p=0.0000  , df=10\n",
      "parameter F test:         F=451.3168, p=0.0000  , df_denom=7827, df_num=10\n"
     ]
    },
    {
     "data": {
      "text/plain": [
       "{1: ({'ssr_ftest': (1900.118108955824, 0.0, 7854.0, 1),\n",
       "   'ssr_chi2test': (1900.8438989134083, 0.0, 1),\n",
       "   'lrtest': (1702.3495534349931, 0.0, 1),\n",
       "   'params_ftest': (1900.1181108145317, 0.0, 7854.0, 1.0)},\n",
       "  [<statsmodels.regression.linear_model.RegressionResultsWrapper at 0x167b47c6e90>,\n",
       "   <statsmodels.regression.linear_model.RegressionResultsWrapper at 0x167b47c4710>,\n",
       "   array([[0., 1., 0.]])]),\n",
       " 2: ({'ssr_ftest': (1465.16550935824, 0.0, 7851.0, 2),\n",
       "   'ssr_chi2test': (2932.19723386023, 0.0, 2),\n",
       "   'lrtest': (2491.7277173198527, 0.0, 2),\n",
       "   'params_ftest': (1465.1654829676263, 0.0, 7851.0, 2.0)},\n",
       "  [<statsmodels.regression.linear_model.RegressionResultsWrapper at 0x167b47c6c50>,\n",
       "   <statsmodels.regression.linear_model.RegressionResultsWrapper at 0x167b46f5a50>,\n",
       "   array([[0., 0., 1., 0., 0.],\n",
       "          [0., 0., 0., 1., 0.]])]),\n",
       " 3: ({'ssr_ftest': (1104.6087535518943, 0.0, 7848.0, 3),\n",
       "   'ssr_chi2test': (3316.7820180237495, 0.0, 3),\n",
       "   'lrtest': (2766.8519924534485, 0.0, 3),\n",
       "   'params_ftest': (1104.6087612574595, 0.0, 7848.0, 3.0)},\n",
       "  [<statsmodels.regression.linear_model.RegressionResultsWrapper at 0x167b47bf650>,\n",
       "   <statsmodels.regression.linear_model.RegressionResultsWrapper at 0x167b47bf150>,\n",
       "   array([[0., 0., 0., 1., 0., 0., 0.],\n",
       "          [0., 0., 0., 0., 1., 0., 0.],\n",
       "          [0., 0., 0., 0., 0., 1., 0.]])]),\n",
       " 4: ({'ssr_ftest': (890.9975017080721, 0.0, 7845.0, 4),\n",
       "   'ssr_chi2test': (3568.0787142971058, 0.0, 4),\n",
       "   'lrtest': (2941.5213569066254, 0.0, 4),\n",
       "   'params_ftest': (890.9975027942166, 0.0, 7845.0, 4.0)},\n",
       "  [<statsmodels.regression.linear_model.RegressionResultsWrapper at 0x167b469d350>,\n",
       "   <statsmodels.regression.linear_model.RegressionResultsWrapper at 0x167b46d6290>,\n",
       "   array([[0., 0., 0., 0., 1., 0., 0., 0., 0.],\n",
       "          [0., 0., 0., 0., 0., 1., 0., 0., 0.],\n",
       "          [0., 0., 0., 0., 0., 0., 1., 0., 0.],\n",
       "          [0., 0., 0., 0., 0., 0., 0., 1., 0.]])]),\n",
       " 5: ({'ssr_ftest': (764.6673524532772, 0.0, 7842.0, 5),\n",
       "   'ssr_chi2test': (3828.6997697115444, 0.0, 5),\n",
       "   'lrtest': (3118.6451681976905, 0.0, 5),\n",
       "   'params_ftest': (764.6673481485436, 0.0, 7842.0, 5.0)},\n",
       "  [<statsmodels.regression.linear_model.RegressionResultsWrapper at 0x167b47b32d0>,\n",
       "   <statsmodels.regression.linear_model.RegressionResultsWrapper at 0x167b4748390>,\n",
       "   array([[0., 0., 0., 0., 0., 1., 0., 0., 0., 0., 0.],\n",
       "          [0., 0., 0., 0., 0., 0., 1., 0., 0., 0., 0.],\n",
       "          [0., 0., 0., 0., 0., 0., 0., 1., 0., 0., 0.],\n",
       "          [0., 0., 0., 0., 0., 0., 0., 0., 1., 0., 0.],\n",
       "          [0., 0., 0., 0., 0., 0., 0., 0., 0., 1., 0.]])]),\n",
       " 6: ({'ssr_ftest': (672.2951355505061, 0.0, 7839.0, 6),\n",
       "   'ssr_chi2test': (4040.460317139359, 0.0, 6),\n",
       "   'lrtest': (3259.6505111146835, 0.0, 6),\n",
       "   'params_ftest': (672.2951383562687, 0.0, 7839.0, 6.0)},\n",
       "  [<statsmodels.regression.linear_model.RegressionResultsWrapper at 0x167b47b31d0>,\n",
       "   <statsmodels.regression.linear_model.RegressionResultsWrapper at 0x167b47d6310>,\n",
       "   array([[0., 0., 0., 0., 0., 0., 1., 0., 0., 0., 0., 0., 0.],\n",
       "          [0., 0., 0., 0., 0., 0., 0., 1., 0., 0., 0., 0., 0.],\n",
       "          [0., 0., 0., 0., 0., 0., 0., 0., 1., 0., 0., 0., 0.],\n",
       "          [0., 0., 0., 0., 0., 0., 0., 0., 0., 1., 0., 0., 0.],\n",
       "          [0., 0., 0., 0., 0., 0., 0., 0., 0., 0., 1., 0., 0.],\n",
       "          [0., 0., 0., 0., 0., 0., 0., 0., 0., 0., 0., 1., 0.]])]),\n",
       " 7: ({'ssr_ftest': (599.4993185486026, 0.0, 7836.0, 7),\n",
       "   'ssr_chi2test': (4204.528337094889, 0.0, 7),\n",
       "   'lrtest': (3367.155923959799, 0.0, 7),\n",
       "   'params_ftest': (599.4993097984341, 0.0, 7836.0, 7.0)},\n",
       "  [<statsmodels.regression.linear_model.RegressionResultsWrapper at 0x167b47d6050>,\n",
       "   <statsmodels.regression.linear_model.RegressionResultsWrapper at 0x167b47d6190>,\n",
       "   array([[0., 0., 0., 0., 0., 0., 0., 1., 0., 0., 0., 0., 0., 0., 0.],\n",
       "          [0., 0., 0., 0., 0., 0., 0., 0., 1., 0., 0., 0., 0., 0., 0.],\n",
       "          [0., 0., 0., 0., 0., 0., 0., 0., 0., 1., 0., 0., 0., 0., 0.],\n",
       "          [0., 0., 0., 0., 0., 0., 0., 0., 0., 0., 1., 0., 0., 0., 0.],\n",
       "          [0., 0., 0., 0., 0., 0., 0., 0., 0., 0., 0., 1., 0., 0., 0.],\n",
       "          [0., 0., 0., 0., 0., 0., 0., 0., 0., 0., 0., 0., 1., 0., 0.],\n",
       "          [0., 0., 0., 0., 0., 0., 0., 0., 0., 0., 0., 0., 0., 1., 0.]])]),\n",
       " 8: ({'ssr_ftest': (543.0659190494431, 0.0, 7833.0, 8),\n",
       "   'ssr_chi2test': (4353.956302349678, 0.0, 8),\n",
       "   'lrtest': (3463.7862374564284, 0.0, 8),\n",
       "   'params_ftest': (543.0659277853439, 0.0, 7833.0, 8.0)},\n",
       "  [<statsmodels.regression.linear_model.RegressionResultsWrapper at 0x167b47d49d0>,\n",
       "   <statsmodels.regression.linear_model.RegressionResultsWrapper at 0x167b47d67d0>,\n",
       "   array([[0., 0., 0., 0., 0., 0., 0., 0., 1., 0., 0., 0., 0., 0., 0., 0.,\n",
       "           0.],\n",
       "          [0., 0., 0., 0., 0., 0., 0., 0., 0., 1., 0., 0., 0., 0., 0., 0.,\n",
       "           0.],\n",
       "          [0., 0., 0., 0., 0., 0., 0., 0., 0., 0., 1., 0., 0., 0., 0., 0.,\n",
       "           0.],\n",
       "          [0., 0., 0., 0., 0., 0., 0., 0., 0., 0., 0., 1., 0., 0., 0., 0.,\n",
       "           0.],\n",
       "          [0., 0., 0., 0., 0., 0., 0., 0., 0., 0., 0., 0., 1., 0., 0., 0.,\n",
       "           0.],\n",
       "          [0., 0., 0., 0., 0., 0., 0., 0., 0., 0., 0., 0., 0., 1., 0., 0.,\n",
       "           0.],\n",
       "          [0., 0., 0., 0., 0., 0., 0., 0., 0., 0., 0., 0., 0., 0., 1., 0.,\n",
       "           0.],\n",
       "          [0., 0., 0., 0., 0., 0., 0., 0., 0., 0., 0., 0., 0., 0., 0., 1.,\n",
       "           0.]])]),\n",
       " 9: ({'ssr_ftest': (496.761487354313, 0.0, 7830.0, 9),\n",
       "   'ssr_chi2test': (4481.702200280462, 0.0, 9),\n",
       "   'lrtest': (3545.441421904019, 0.0, 9),\n",
       "   'params_ftest': (496.76148124706197, 0.0, 7830.0, 9.0)},\n",
       "  [<statsmodels.regression.linear_model.RegressionResultsWrapper at 0x167b47d6dd0>,\n",
       "   <statsmodels.regression.linear_model.RegressionResultsWrapper at 0x167b47d5890>,\n",
       "   array([[0., 0., 0., 0., 0., 0., 0., 0., 0., 1., 0., 0., 0., 0., 0., 0.,\n",
       "           0., 0., 0.],\n",
       "          [0., 0., 0., 0., 0., 0., 0., 0., 0., 0., 1., 0., 0., 0., 0., 0.,\n",
       "           0., 0., 0.],\n",
       "          [0., 0., 0., 0., 0., 0., 0., 0., 0., 0., 0., 1., 0., 0., 0., 0.,\n",
       "           0., 0., 0.],\n",
       "          [0., 0., 0., 0., 0., 0., 0., 0., 0., 0., 0., 0., 1., 0., 0., 0.,\n",
       "           0., 0., 0.],\n",
       "          [0., 0., 0., 0., 0., 0., 0., 0., 0., 0., 0., 0., 0., 1., 0., 0.,\n",
       "           0., 0., 0.],\n",
       "          [0., 0., 0., 0., 0., 0., 0., 0., 0., 0., 0., 0., 0., 0., 1., 0.,\n",
       "           0., 0., 0.],\n",
       "          [0., 0., 0., 0., 0., 0., 0., 0., 0., 0., 0., 0., 0., 0., 0., 1.,\n",
       "           0., 0., 0.],\n",
       "          [0., 0., 0., 0., 0., 0., 0., 0., 0., 0., 0., 0., 0., 0., 0., 0.,\n",
       "           1., 0., 0.],\n",
       "          [0., 0., 0., 0., 0., 0., 0., 0., 0., 0., 0., 0., 0., 0., 0., 0.,\n",
       "           0., 1., 0.]])]),\n",
       " 10: ({'ssr_ftest': (451.31680860129626, 0.0, 7827.0, 10),\n",
       "   'ssr_chi2test': (4525.277007669571, 0.0, 10),\n",
       "   'lrtest': (3573.040145947947, 0.0, 10),\n",
       "   'params_ftest': (451.31680846937024, 0.0, 7827.0, 10.0)},\n",
       "  [<statsmodels.regression.linear_model.RegressionResultsWrapper at 0x167b47d6010>,\n",
       "   <statsmodels.regression.linear_model.RegressionResultsWrapper at 0x167b47d80d0>,\n",
       "   array([[0., 0., 0., 0., 0., 0., 0., 0., 0., 0., 1., 0., 0., 0., 0., 0.,\n",
       "           0., 0., 0., 0., 0.],\n",
       "          [0., 0., 0., 0., 0., 0., 0., 0., 0., 0., 0., 1., 0., 0., 0., 0.,\n",
       "           0., 0., 0., 0., 0.],\n",
       "          [0., 0., 0., 0., 0., 0., 0., 0., 0., 0., 0., 0., 1., 0., 0., 0.,\n",
       "           0., 0., 0., 0., 0.],\n",
       "          [0., 0., 0., 0., 0., 0., 0., 0., 0., 0., 0., 0., 0., 1., 0., 0.,\n",
       "           0., 0., 0., 0., 0.],\n",
       "          [0., 0., 0., 0., 0., 0., 0., 0., 0., 0., 0., 0., 0., 0., 1., 0.,\n",
       "           0., 0., 0., 0., 0.],\n",
       "          [0., 0., 0., 0., 0., 0., 0., 0., 0., 0., 0., 0., 0., 0., 0., 1.,\n",
       "           0., 0., 0., 0., 0.],\n",
       "          [0., 0., 0., 0., 0., 0., 0., 0., 0., 0., 0., 0., 0., 0., 0., 0.,\n",
       "           1., 0., 0., 0., 0.],\n",
       "          [0., 0., 0., 0., 0., 0., 0., 0., 0., 0., 0., 0., 0., 0., 0., 0.,\n",
       "           0., 1., 0., 0., 0.],\n",
       "          [0., 0., 0., 0., 0., 0., 0., 0., 0., 0., 0., 0., 0., 0., 0., 0.,\n",
       "           0., 0., 1., 0., 0.],\n",
       "          [0., 0., 0., 0., 0., 0., 0., 0., 0., 0., 0., 0., 0., 0., 0., 0.,\n",
       "           0., 0., 0., 1., 0.]])])}"
      ]
     },
     "execution_count": 32,
     "metadata": {},
     "output_type": "execute_result"
    }
   ],
   "source": [
    "grangercausalitytests(df_train_diff[['WETH/PEPE','CLOSE']], 10)"
   ]
  },
  {
   "cell_type": "code",
   "execution_count": 16,
   "id": "b81b7ed0-9357-4eee-879a-d721d28c18bb",
   "metadata": {},
   "outputs": [],
   "source": [
    "from statsmodels.stats.stattools import durbin_watson\n",
    "out = durbin_watson(model_fitted.resid)"
   ]
  },
  {
   "cell_type": "code",
   "execution_count": 17,
   "id": "5f411710-efe7-43e6-a962-4e8cb080a412",
   "metadata": {},
   "outputs": [
    {
     "data": {
      "text/plain": [
       "array([2.00051243, 2.00455061])"
      ]
     },
     "execution_count": 17,
     "metadata": {},
     "output_type": "execute_result"
    }
   ],
   "source": [
    "out"
   ]
  },
  {
   "cell_type": "code",
   "execution_count": 18,
   "id": "735b4108-b72c-4266-90a4-a717dc09e6ad",
   "metadata": {},
   "outputs": [
    {
     "name": "stdout",
     "output_type": "stream",
     "text": [
      "10\n"
     ]
    }
   ],
   "source": [
    "lag_order = model_fitted.k_ar\n",
    "print(lag_order)  #> 7"
   ]
  },
  {
   "cell_type": "code",
   "execution_count": 19,
   "id": "78ac4063-fae9-41db-a8a1-d2f9c8524c9f",
   "metadata": {},
   "outputs": [
    {
     "data": {
      "text/plain": [
       "array([[ 8.75958385e-14,  6.03000000e-14],\n",
       "       [ 4.24600560e-12,  7.16800000e-13],\n",
       "       [ 3.90193187e-12,  7.16140000e-12],\n",
       "       [ 6.57523671e-13,  6.05000000e-13],\n",
       "       [ 1.03898523e-11,  1.05291000e-11],\n",
       "       [ 4.10661309e-12,  3.65200000e-13],\n",
       "       [ 8.84742535e-12,  7.84000000e-12],\n",
       "       [ 9.62645985e-12,  2.28187000e-11],\n",
       "       [ 3.16182002e-12, -5.28000000e-12],\n",
       "       [-1.23008542e-13, -4.48000000e-14]])"
      ]
     },
     "execution_count": 19,
     "metadata": {},
     "output_type": "execute_result"
    }
   ],
   "source": [
    "forecast_input = df_train_diff.values[-lag_order:]\n",
    "forecast_input"
   ]
  },
  {
   "cell_type": "code",
   "execution_count": 20,
   "id": "2dfc2915-ff48-4a90-a507-86038b597ab4",
   "metadata": {},
   "outputs": [],
   "source": [
    "fc = model_fitted.forecast(y=forecast_input, steps=len(df_test))"
   ]
  },
  {
   "cell_type": "code",
   "execution_count": 21,
   "id": "c73f2cc8-9a86-4f36-828a-13452b2a0eff",
   "metadata": {},
   "outputs": [
    {
     "data": {
      "text/plain": [
       "(10, 2)"
      ]
     },
     "execution_count": 21,
     "metadata": {},
     "output_type": "execute_result"
    }
   ],
   "source": [
    "fc.shape"
   ]
  },
  {
   "cell_type": "code",
   "execution_count": 22,
   "id": "36fa03d1-2569-485c-854d-4a82e7959f11",
   "metadata": {},
   "outputs": [],
   "source": [
    "df_forecast = pd.DataFrame(fc, index=df.index[-nobs:], columns=['CLOSE_2d', 'WETH/PEPE_2d'])"
   ]
  },
  {
   "cell_type": "code",
   "execution_count": 23,
   "id": "045aa907-5037-4ac9-88dd-7afd92d0e749",
   "metadata": {},
   "outputs": [
    {
     "data": {
      "text/html": [
       "<div>\n",
       "<style scoped>\n",
       "    .dataframe tbody tr th:only-of-type {\n",
       "        vertical-align: middle;\n",
       "    }\n",
       "\n",
       "    .dataframe tbody tr th {\n",
       "        vertical-align: top;\n",
       "    }\n",
       "\n",
       "    .dataframe thead th {\n",
       "        text-align: right;\n",
       "    }\n",
       "</style>\n",
       "<table border=\"1\" class=\"dataframe\">\n",
       "  <thead>\n",
       "    <tr style=\"text-align: right;\">\n",
       "      <th></th>\n",
       "      <th>CLOSE_2d</th>\n",
       "      <th>WETH/PEPE_2d</th>\n",
       "    </tr>\n",
       "    <tr>\n",
       "      <th>TIMESTAMP</th>\n",
       "      <th></th>\n",
       "      <th></th>\n",
       "    </tr>\n",
       "  </thead>\n",
       "  <tbody>\n",
       "    <tr>\n",
       "      <th>2024-02-28 23:46:00</th>\n",
       "      <td>1.785912e-13</td>\n",
       "      <td>1.220363e-12</td>\n",
       "    </tr>\n",
       "    <tr>\n",
       "      <th>2024-02-28 23:49:00</th>\n",
       "      <td>-5.237912e-13</td>\n",
       "      <td>5.542385e-13</td>\n",
       "    </tr>\n",
       "    <tr>\n",
       "      <th>2024-02-28 23:50:00</th>\n",
       "      <td>-1.139061e-12</td>\n",
       "      <td>-6.502276e-13</td>\n",
       "    </tr>\n",
       "    <tr>\n",
       "      <th>2024-02-28 23:51:00</th>\n",
       "      <td>6.167291e-13</td>\n",
       "      <td>-1.455717e-13</td>\n",
       "    </tr>\n",
       "    <tr>\n",
       "      <th>2024-02-28 23:52:00</th>\n",
       "      <td>7.071445e-13</td>\n",
       "      <td>9.499023e-13</td>\n",
       "    </tr>\n",
       "    <tr>\n",
       "      <th>2024-02-28 23:55:00</th>\n",
       "      <td>9.032147e-13</td>\n",
       "      <td>2.019836e-13</td>\n",
       "    </tr>\n",
       "    <tr>\n",
       "      <th>2024-02-28 23:56:00</th>\n",
       "      <td>5.113431e-13</td>\n",
       "      <td>1.044075e-12</td>\n",
       "    </tr>\n",
       "    <tr>\n",
       "      <th>2024-02-28 23:57:00</th>\n",
       "      <td>-1.380029e-14</td>\n",
       "      <td>8.393717e-13</td>\n",
       "    </tr>\n",
       "    <tr>\n",
       "      <th>2024-02-28 23:58:00</th>\n",
       "      <td>-1.112981e-13</td>\n",
       "      <td>-6.745356e-13</td>\n",
       "    </tr>\n",
       "    <tr>\n",
       "      <th>2024-02-29 00:00:00</th>\n",
       "      <td>-1.391563e-14</td>\n",
       "      <td>-4.830749e-13</td>\n",
       "    </tr>\n",
       "  </tbody>\n",
       "</table>\n",
       "</div>"
      ],
      "text/plain": [
       "                         CLOSE_2d  WETH/PEPE_2d\n",
       "TIMESTAMP                                      \n",
       "2024-02-28 23:46:00  1.785912e-13  1.220363e-12\n",
       "2024-02-28 23:49:00 -5.237912e-13  5.542385e-13\n",
       "2024-02-28 23:50:00 -1.139061e-12 -6.502276e-13\n",
       "2024-02-28 23:51:00  6.167291e-13 -1.455717e-13\n",
       "2024-02-28 23:52:00  7.071445e-13  9.499023e-13\n",
       "2024-02-28 23:55:00  9.032147e-13  2.019836e-13\n",
       "2024-02-28 23:56:00  5.113431e-13  1.044075e-12\n",
       "2024-02-28 23:57:00 -1.380029e-14  8.393717e-13\n",
       "2024-02-28 23:58:00 -1.112981e-13 -6.745356e-13\n",
       "2024-02-29 00:00:00 -1.391563e-14 -4.830749e-13"
      ]
     },
     "execution_count": 23,
     "metadata": {},
     "output_type": "execute_result"
    }
   ],
   "source": [
    "df_forecast"
   ]
  },
  {
   "cell_type": "code",
   "execution_count": 24,
   "id": "448becb8-e5e9-457e-8879-4a4e56f255a7",
   "metadata": {},
   "outputs": [],
   "source": [
    "def inverse_trans(data_train, data_forecast, second_diff=False):\n",
    "    data_fc = data_forecast.copy()\n",
    "    for col in ['CLOSE', 'WETH/PEPE']:\n",
    "        if second_diff:\n",
    "            data_fc[str(col)+'_1d'] = (data_train[col].iloc[-1] - data_train[col].iloc[-2]) + data_fc[str(col)+'_2d'].cumsum()\n",
    "        data_fc[str(col)+'_forecast'] = data_train[col].iloc[-1] + data_fc[str(col)+'_1d'].cumsum()\n",
    "    return data_fc"
   ]
  },
  {
   "cell_type": "code",
   "execution_count": 25,
   "id": "3003baac-2213-49a6-b000-79be66b42271",
   "metadata": {},
   "outputs": [
    {
     "data": {
      "text/html": [
       "<div>\n",
       "<style scoped>\n",
       "    .dataframe tbody tr th:only-of-type {\n",
       "        vertical-align: middle;\n",
       "    }\n",
       "\n",
       "    .dataframe tbody tr th {\n",
       "        vertical-align: top;\n",
       "    }\n",
       "\n",
       "    .dataframe thead th {\n",
       "        text-align: right;\n",
       "    }\n",
       "</style>\n",
       "<table border=\"1\" class=\"dataframe\">\n",
       "  <thead>\n",
       "    <tr style=\"text-align: right;\">\n",
       "      <th></th>\n",
       "      <th>CLOSE_2d</th>\n",
       "      <th>WETH/PEPE_2d</th>\n",
       "      <th>CLOSE_1d</th>\n",
       "      <th>CLOSE_forecast</th>\n",
       "      <th>WETH/PEPE_1d</th>\n",
       "      <th>WETH/PEPE_forecast</th>\n",
       "    </tr>\n",
       "    <tr>\n",
       "      <th>TIMESTAMP</th>\n",
       "      <th></th>\n",
       "      <th></th>\n",
       "      <th></th>\n",
       "      <th></th>\n",
       "      <th></th>\n",
       "      <th></th>\n",
       "    </tr>\n",
       "  </thead>\n",
       "  <tbody>\n",
       "    <tr>\n",
       "      <th>2024-02-28 23:46:00</th>\n",
       "      <td>1.785912e-13</td>\n",
       "      <td>1.220363e-12</td>\n",
       "      <td>5.558265e-14</td>\n",
       "      <td>9.491516e-10</td>\n",
       "      <td>1.175563e-12</td>\n",
       "      <td>9.473983e-10</td>\n",
       "    </tr>\n",
       "    <tr>\n",
       "      <th>2024-02-28 23:49:00</th>\n",
       "      <td>-5.237912e-13</td>\n",
       "      <td>5.542385e-13</td>\n",
       "      <td>-4.682085e-13</td>\n",
       "      <td>9.486834e-10</td>\n",
       "      <td>1.729801e-12</td>\n",
       "      <td>9.491281e-10</td>\n",
       "    </tr>\n",
       "    <tr>\n",
       "      <th>2024-02-28 23:50:00</th>\n",
       "      <td>-1.139061e-12</td>\n",
       "      <td>-6.502276e-13</td>\n",
       "      <td>-1.607269e-12</td>\n",
       "      <td>9.470761e-10</td>\n",
       "      <td>1.079574e-12</td>\n",
       "      <td>9.502076e-10</td>\n",
       "    </tr>\n",
       "    <tr>\n",
       "      <th>2024-02-28 23:51:00</th>\n",
       "      <td>6.167291e-13</td>\n",
       "      <td>-1.455717e-13</td>\n",
       "      <td>-9.905401e-13</td>\n",
       "      <td>9.460856e-10</td>\n",
       "      <td>9.340019e-13</td>\n",
       "      <td>9.511416e-10</td>\n",
       "    </tr>\n",
       "    <tr>\n",
       "      <th>2024-02-28 23:52:00</th>\n",
       "      <td>7.071445e-13</td>\n",
       "      <td>9.499023e-13</td>\n",
       "      <td>-2.833956e-13</td>\n",
       "      <td>9.458022e-10</td>\n",
       "      <td>1.883904e-12</td>\n",
       "      <td>9.530255e-10</td>\n",
       "    </tr>\n",
       "    <tr>\n",
       "      <th>2024-02-28 23:55:00</th>\n",
       "      <td>9.032147e-13</td>\n",
       "      <td>2.019836e-13</td>\n",
       "      <td>6.198191e-13</td>\n",
       "      <td>9.464220e-10</td>\n",
       "      <td>2.085888e-12</td>\n",
       "      <td>9.551114e-10</td>\n",
       "    </tr>\n",
       "    <tr>\n",
       "      <th>2024-02-28 23:56:00</th>\n",
       "      <td>5.113431e-13</td>\n",
       "      <td>1.044075e-12</td>\n",
       "      <td>1.131162e-12</td>\n",
       "      <td>9.475532e-10</td>\n",
       "      <td>3.129963e-12</td>\n",
       "      <td>9.582414e-10</td>\n",
       "    </tr>\n",
       "    <tr>\n",
       "      <th>2024-02-28 23:57:00</th>\n",
       "      <td>-1.380029e-14</td>\n",
       "      <td>8.393717e-13</td>\n",
       "      <td>1.117362e-12</td>\n",
       "      <td>9.486705e-10</td>\n",
       "      <td>3.969334e-12</td>\n",
       "      <td>9.622107e-10</td>\n",
       "    </tr>\n",
       "    <tr>\n",
       "      <th>2024-02-28 23:58:00</th>\n",
       "      <td>-1.112981e-13</td>\n",
       "      <td>-6.745356e-13</td>\n",
       "      <td>1.006064e-12</td>\n",
       "      <td>9.496766e-10</td>\n",
       "      <td>3.294799e-12</td>\n",
       "      <td>9.655055e-10</td>\n",
       "    </tr>\n",
       "    <tr>\n",
       "      <th>2024-02-29 00:00:00</th>\n",
       "      <td>-1.391563e-14</td>\n",
       "      <td>-4.830749e-13</td>\n",
       "      <td>9.921482e-13</td>\n",
       "      <td>9.506687e-10</td>\n",
       "      <td>2.811724e-12</td>\n",
       "      <td>9.683173e-10</td>\n",
       "    </tr>\n",
       "  </tbody>\n",
       "</table>\n",
       "</div>"
      ],
      "text/plain": [
       "                         CLOSE_2d  WETH/PEPE_2d      CLOSE_1d  CLOSE_forecast  \\\n",
       "TIMESTAMP                                                                       \n",
       "2024-02-28 23:46:00  1.785912e-13  1.220363e-12  5.558265e-14    9.491516e-10   \n",
       "2024-02-28 23:49:00 -5.237912e-13  5.542385e-13 -4.682085e-13    9.486834e-10   \n",
       "2024-02-28 23:50:00 -1.139061e-12 -6.502276e-13 -1.607269e-12    9.470761e-10   \n",
       "2024-02-28 23:51:00  6.167291e-13 -1.455717e-13 -9.905401e-13    9.460856e-10   \n",
       "2024-02-28 23:52:00  7.071445e-13  9.499023e-13 -2.833956e-13    9.458022e-10   \n",
       "2024-02-28 23:55:00  9.032147e-13  2.019836e-13  6.198191e-13    9.464220e-10   \n",
       "2024-02-28 23:56:00  5.113431e-13  1.044075e-12  1.131162e-12    9.475532e-10   \n",
       "2024-02-28 23:57:00 -1.380029e-14  8.393717e-13  1.117362e-12    9.486705e-10   \n",
       "2024-02-28 23:58:00 -1.112981e-13 -6.745356e-13  1.006064e-12    9.496766e-10   \n",
       "2024-02-29 00:00:00 -1.391563e-14 -4.830749e-13  9.921482e-13    9.506687e-10   \n",
       "\n",
       "                     WETH/PEPE_1d  WETH/PEPE_forecast  \n",
       "TIMESTAMP                                              \n",
       "2024-02-28 23:46:00  1.175563e-12        9.473983e-10  \n",
       "2024-02-28 23:49:00  1.729801e-12        9.491281e-10  \n",
       "2024-02-28 23:50:00  1.079574e-12        9.502076e-10  \n",
       "2024-02-28 23:51:00  9.340019e-13        9.511416e-10  \n",
       "2024-02-28 23:52:00  1.883904e-12        9.530255e-10  \n",
       "2024-02-28 23:55:00  2.085888e-12        9.551114e-10  \n",
       "2024-02-28 23:56:00  3.129963e-12        9.582414e-10  \n",
       "2024-02-28 23:57:00  3.969334e-12        9.622107e-10  \n",
       "2024-02-28 23:58:00  3.294799e-12        9.655055e-10  \n",
       "2024-02-29 00:00:00  2.811724e-12        9.683173e-10  "
      ]
     },
     "execution_count": 25,
     "metadata": {},
     "output_type": "execute_result"
    }
   ],
   "source": [
    "df_res = inverse_trans(df_train, df_forecast, second_diff = True)\n",
    "df_res"
   ]
  },
  {
   "cell_type": "code",
   "execution_count": 26,
   "id": "250d87a0-dea7-42d8-ba36-d721e97fa4b2",
   "metadata": {},
   "outputs": [
    {
     "data": {
      "image/png": "[encoded data removed]",
      "text/plain": [
       "<Figure size 1000x700 with 1 Axes>"
      ]
     },
     "metadata": {},
     "output_type": "display_data"
    }
   ],
   "source": [
    "plt.figure(figsize = (10,7))\n",
    "plt.plot(df_res['CLOSE_forecast'], label='CLOSE_forecast')\n",
    "plt.plot(df_test['CLOSE'], label='CLOSE')\n",
    "plt.plot(df_test['WETH/PEPE'], label='WETH/PEPE')\n",
    "plt.legend()\n",
    "plt.show()"
   ]
  },
  {
   "cell_type": "markdown",
   "id": "50dc1024-6a79-4407-b61b-a0f8eb77ba02",
   "metadata": {},
   "source": [
    "## Conclusion\n",
    "Bad Performance."
   ]
  },
  {
   "cell_type": "code",
   "execution_count": null,
   "id": "75a9f169-1db7-41b0-9118-142fb87db5f0",
   "metadata": {},
   "outputs": [],
   "source": []
  }
 ],
 "metadata": {
  "kernelspec": {
   "display_name": "Python 3 (ipykernel)",
   "language": "python",
   "name": "python3"
  },
  "language_info": {
   "codemirror_mode": {
    "name": "ipython",
    "version": 3
   },
   "file_extension": ".py",
   "mimetype": "text/x-python",
   "name": "python",
   "nbconvert_exporter": "python",
   "pygments_lexer": "ipython3",
   "version": "3.11.7"
  }
 },
 "nbformat": 4,
 "nbformat_minor": 5
}
